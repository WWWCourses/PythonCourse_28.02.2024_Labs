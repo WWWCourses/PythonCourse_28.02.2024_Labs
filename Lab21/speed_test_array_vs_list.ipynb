{
 "cells": [
  {
   "cell_type": "code",
   "execution_count": 1,
   "metadata": {},
   "outputs": [
    {
     "name": "stdout",
     "output_type": "stream",
     "text": [
      "Timing Lists Sum:\n",
      "[0, 2, 4, 6, 8]\n",
      "CPU times: user 1.24 s, sys: 263 ms, total: 1.5 s\n",
      "Wall time: 1.57 s\n",
      "--------------------------------------------------\n",
      "Timing Arrays Sum:\n",
      "[0 2 4 6 8]\n",
      "CPU times: user 38 ms, sys: 120 ms, total: 158 ms\n",
      "Wall time: 167 ms\n"
     ]
    }
   ],
   "source": [
    "import numpy as np\n",
    "import time\n",
    "\n",
    "# set a constant SIZE for the length of the sequences.\n",
    "SIZE = 5_000_000\n",
    "\n",
    "# calculate point to point sum on two lists:\n",
    "def calculate_python_lists_p2p_sum():\n",
    "    # create 2 Python's lists\n",
    "\tl1 = list(range(SIZE))\n",
    "\tl2 = list(range(SIZE))\n",
    "\n",
    "    # calculate point to point sum:\n",
    "\tresult = [(x+y) for x,y in zip(l1,l2)]\n",
    "\n",
    "\tprint( result[0:5] )\n",
    "\n",
    "# calculate point to point sum on two arrays:\n",
    "def calculate_numpy_arrays_p2p_sum():\n",
    "\t# create 2 Numpy Arrays\n",
    "\ta1=np.arange(SIZE)\n",
    "\ta2=np.arange(SIZE)\n",
    "\n",
    "    # calculate point to point sum:\n",
    "\tresult = a1 + a2\n",
    "\n",
    "\tprint(result[0:5])\n",
    "\n",
    "\n",
    "\n",
    "# Timing execution:\n",
    "print('Timing Lists Sum:')\n",
    "%time calculate_python_lists_p2p_sum()\n",
    "\n",
    "print('-'*50)\n",
    "print('Timing Arrays Sum:')\n",
    "%time calculate_numpy_arrays_p2p_sum()"
   ]
  },
  {
   "cell_type": "code",
   "execution_count": null,
   "metadata": {},
   "outputs": [],
   "source": []
  }
 ],
 "metadata": {
  "kernelspec": {
   "display_name": "Python 3 (ipykernel)",
   "language": "python",
   "name": "python3"
  },
  "language_info": {
   "codemirror_mode": {
    "name": "ipython",
    "version": 3
   },
   "file_extension": ".py",
   "mimetype": "text/x-python",
   "name": "python",
   "nbconvert_exporter": "python",
   "pygments_lexer": "ipython3",
   "version": "3.12.3"
  }
 },
 "nbformat": 4,
 "nbformat_minor": 4
}
