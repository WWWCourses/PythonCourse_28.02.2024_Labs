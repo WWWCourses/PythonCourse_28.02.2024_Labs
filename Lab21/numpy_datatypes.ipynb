{
 "cells": [
  {
   "cell_type": "code",
   "execution_count": 1,
   "metadata": {},
   "outputs": [],
   "source": [
    "import numpy as np"
   ]
  },
  {
   "cell_type": "markdown",
   "metadata": {},
   "source": [
    "# NumPy Data Types (dtypes)\n",
    "\n",
    "NumPy offers a variety of data types for handling numerical and other types of data efficiently.\n",
    "\n",
    "Reference: <a href=\"https://numpy.org/doc/stable/user/basics.types.html\">Data types @numpy.org</a>\n",
    "\n",
    "We can check the data type of array elements by `arr.dtype` attribute "
   ]
  },
  {
   "cell_type": "code",
   "execution_count": 3,
   "metadata": {},
   "outputs": [
    {
     "data": {
      "text/plain": [
       "dtype('int8')"
      ]
     },
     "execution_count": 3,
     "metadata": {},
     "output_type": "execute_result"
    }
   ],
   "source": [
    "arr = np.array([1,2,3], dtype=np.int8)\n",
    "arr.dtype"
   ]
  },
  {
   "cell_type": "markdown",
   "metadata": {},
   "source": [
    "## Basic Data types"
   ]
  },
  {
   "cell_type": "markdown",
   "metadata": {},
   "source": [
    "### Integer Types\n",
    "\n",
    "**Signed Integer Types**: Represent whole numbers, can be positive or negative.\n",
    "\n",
    "**Unsigned Integer Types**: Represent non-negative whole numbers."
   ]
  },
  {
   "cell_type": "code",
   "execution_count": 6,
   "metadata": {},
   "outputs": [
    {
     "name": "stdout",
     "output_type": "stream",
     "text": [
      "[ 1 -2  3]\n",
      "[ 1000 -2000  3000]\n",
      "[1 2 3]\n",
      "[1000 2000 3000]\n"
     ]
    }
   ],
   "source": [
    "# Signed 8-bit integer\n",
    "int8_array = np.array([1, -2, 3], dtype=np.int8)\n",
    "print(int8_array)\n",
    "\n",
    "# Signed 16-bit integer\n",
    "int16_array = np.array([1000, -2000, 3000], dtype=np.int16)\n",
    "print(int16_array)\n",
    "\n",
    "# Unsigned 8-bit integer\n",
    "uint8_array = np.array([1, 2, 3], dtype=np.uint8)\n",
    "print(uint8_array)\n",
    "\n",
    "# Unsigned 16-bit integer\n",
    "uint16_array = np.array([1000, 2000, 3000], dtype=np.uint16)\n",
    "print(uint16_array)"
   ]
  },
  {
   "cell_type": "markdown",
   "metadata": {},
   "source": [
    "### Floating-Point Types\n",
    "\n",
    "Floating-Point Types represent real numbers with decimal points."
   ]
  },
  {
   "cell_type": "code",
   "execution_count": 7,
   "metadata": {},
   "outputs": [
    {
     "name": "stdout",
     "output_type": "stream",
     "text": [
      "[1.5 2.5 3.5]\n",
      "[1.1 2.2 3.3]\n"
     ]
    }
   ],
   "source": [
    "# 32-bit floating point\n",
    "float32_array = np.array([1.5, 2.5, 3.5], dtype=np.float32)\n",
    "print(float32_array)\n",
    "\n",
    "# 64-bit floating point\n",
    "float64_array = np.array([1.1, 2.2, 3.3], dtype=np.float64)\n",
    "print(float64_array)"
   ]
  },
  {
   "cell_type": "markdown",
   "metadata": {},
   "source": [
    "### Complex Types\n",
    "\n",
    "Represent complex numbers with real and imaginary parts."
   ]
  },
  {
   "cell_type": "code",
   "execution_count": 9,
   "metadata": {},
   "outputs": [
    {
     "name": "stdout",
     "output_type": "stream",
     "text": [
      "[1.+2.j 3.+4.j]\n",
      "[5.+6.j 7.+8.j]\n"
     ]
    }
   ],
   "source": [
    "# 64-bit complex number\n",
    "complex64_array = np.array([1+2j, 3+4j], dtype=np.complex64)\n",
    "print(complex64_array)\n",
    "\n",
    "# 128-bit complex number\n",
    "complex128_array = np.array([5+6j, 7+8j], dtype=np.complex128)\n",
    "print(complex128_array)"
   ]
  },
  {
   "cell_type": "markdown",
   "metadata": {},
   "source": [
    "### Boolean Type\n",
    "\n",
    "Represents boolean values (True or False)."
   ]
  },
  {
   "cell_type": "code",
   "execution_count": 6,
   "metadata": {},
   "outputs": [
    {
     "name": "stdout",
     "output_type": "stream",
     "text": [
      "[ True False  True False]\n"
     ]
    }
   ],
   "source": [
    "# Boolean array\n",
    "bool_array = np.array([1, 0, 1,0], dtype=np.bool_)\n",
    "print(bool_array)"
   ]
  },
  {
   "cell_type": "markdown",
   "metadata": {},
   "source": [
    "### String Types\n",
    "\n",
    "Represents fixed-length Unicode string type."
   ]
  },
  {
   "cell_type": "code",
   "execution_count": 13,
   "metadata": {},
   "outputs": [
    {
     "name": "stdout",
     "output_type": "stream",
     "text": [
      "['a' 'bc' 'def']\n",
      "<U3\n"
     ]
    }
   ],
   "source": [
    "# Unicode string array\n",
    "str_array = np.array(['a', 'bc', 'def'], dtype=np.str_)\n",
    "print(str_array)\n",
    "print(str_array.dtype)"
   ]
  },
  {
   "cell_type": "markdown",
   "metadata": {},
   "source": [
    "### Object Type\n",
    "\n",
    "Represent arbitrary Python objects"
   ]
  },
  {
   "cell_type": "code",
   "execution_count": 9,
   "metadata": {},
   "outputs": [
    {
     "name": "stdout",
     "output_type": "stream",
     "text": [
      "[1 'a' list([2, 3])]\n",
      "object\n"
     ]
    }
   ],
   "source": [
    "# Object array\n",
    "obj_array = np.array([1, 'a', [2, 3]], dtype=np.object_)\n",
    "print(obj_array)\n",
    "print(obj_array.dtype)"
   ]
  },
  {
   "cell_type": "markdown",
   "metadata": {},
   "source": [
    "### Datetime\n",
    "\n",
    "For dates and times."
   ]
  },
  {
   "cell_type": "code",
   "execution_count": 17,
   "metadata": {},
   "outputs": [
    {
     "name": "stdout",
     "output_type": "stream",
     "text": [
      "['2020-01-01' '2021-01-01']\n",
      "datetime64[D]\n"
     ]
    }
   ],
   "source": [
    "# Datetime array\n",
    "datetime_array = np.array(['2020-01-01', '2021-01-01'], dtype=np.datetime64)\n",
    "print(datetime_array)  # Output: ['2020-01-01' '2021-01-01']\n",
    "print(datetime_array.dtype)  # Output: datetime64"
   ]
  },
  {
   "cell_type": "markdown",
   "metadata": {},
   "source": [
    "## Convert from one datatype to another \n",
    "\n",
    "### Using data types functions\n",
    "\n",
    "Data-types can be used as functions to convert from one data type to another"
   ]
  },
  {
   "cell_type": "code",
   "execution_count": 10,
   "metadata": {},
   "outputs": [
    {
     "name": "stdout",
     "output_type": "stream",
     "text": [
      "[ True  True  True]\n",
      "[1. 2. 3.]\n"
     ]
    }
   ],
   "source": [
    "# create array of integers\n",
    "arr = np.array([1,2,3], dtype=np.int8)\n",
    "\n",
    "# conver it to boolean\n",
    "print(np.bool_(arr))\n",
    "\n",
    "# conever it to float\n",
    "print(np.float64(arr))"
   ]
  },
  {
   "cell_type": "markdown",
   "metadata": {},
   "source": [
    "### Using array.astype() method\n",
    "\n",
    "To convert the type of an array, use the `array.astype()` method, which is preffered than using dtypes as functions "
   ]
  },
  {
   "cell_type": "code",
   "execution_count": 11,
   "metadata": {},
   "outputs": [
    {
     "name": "stdout",
     "output_type": "stream",
     "text": [
      "[ True  True  True]\n",
      "[1. 2. 3.]\n"
     ]
    }
   ],
   "source": [
    "# create array of integers\n",
    "arr = np.array([1,2,3], dtype=np.int8)\n",
    "\n",
    "# convert it to boolean\n",
    "print(arr.astype(np.bool_))\n",
    "\n",
    "# conevert it to float\n",
    "print(arr.astype(np.float64))"
   ]
  },
  {
   "cell_type": "code",
   "execution_count": null,
   "metadata": {},
   "outputs": [],
   "source": []
  }
 ],
 "metadata": {
  "kernelspec": {
   "display_name": "Python 3.9.12 ('.venv': venv)",
   "language": "python",
   "name": "python3"
  },
  "language_info": {
   "codemirror_mode": {
    "name": "ipython",
    "version": 3
   },
   "file_extension": ".py",
   "mimetype": "text/x-python",
   "name": "python",
   "nbconvert_exporter": "python",
   "pygments_lexer": "ipython3",
   "version": "3.12.3"
  },
  "orig_nbformat": 4,
  "vscode": {
   "interpreter": {
    "hash": "2f198458d93464d0c0db318fa461a510553a123fa96784438e9d36dcd5767d99"
   }
  }
 },
 "nbformat": 4,
 "nbformat_minor": 2
}
